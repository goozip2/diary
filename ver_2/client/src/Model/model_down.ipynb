{
 "cells": [
  {
   "cell_type": "code",
   "execution_count": 1,
   "metadata": {},
   "outputs": [
    {
     "name": "stdout",
     "output_type": "stream",
     "text": [
      "Requirement already satisfied: transformers in c:\\users\\goozi\\anaconda3\\lib\\site-packages (4.26.1)\n",
      "Requirement already satisfied: tqdm>=4.27 in c:\\users\\goozi\\anaconda3\\lib\\site-packages (from transformers) (4.64.0)\n",
      "Requirement already satisfied: packaging>=20.0 in c:\\users\\goozi\\anaconda3\\lib\\site-packages (from transformers) (21.3)\n",
      "Requirement already satisfied: numpy>=1.17 in c:\\users\\goozi\\anaconda3\\lib\\site-packages (from transformers) (1.21.5)\n",
      "Requirement already satisfied: tokenizers!=0.11.3,<0.14,>=0.11.1 in c:\\users\\goozi\\anaconda3\\lib\\site-packages (from transformers) (0.13.2)\n",
      "Requirement already satisfied: regex!=2019.12.17 in c:\\users\\goozi\\anaconda3\\lib\\site-packages (from transformers) (2022.3.15)\n",
      "Requirement already satisfied: requests in c:\\users\\goozi\\anaconda3\\lib\\site-packages (from transformers) (2.27.1)\n",
      "Requirement already satisfied: filelock in c:\\users\\goozi\\anaconda3\\lib\\site-packages (from transformers) (3.6.0)\n",
      "Requirement already satisfied: pyyaml>=5.1 in c:\\users\\goozi\\anaconda3\\lib\\site-packages (from transformers) (6.0)\n",
      "Requirement already satisfied: huggingface-hub<1.0,>=0.11.0 in c:\\users\\goozi\\anaconda3\\lib\\site-packages (from transformers) (0.12.0)\n",
      "Requirement already satisfied: typing-extensions>=3.7.4.3 in c:\\users\\goozi\\anaconda3\\lib\\site-packages (from huggingface-hub<1.0,>=0.11.0->transformers) (4.1.1)\n",
      "Requirement already satisfied: pyparsing!=3.0.5,>=2.0.2 in c:\\users\\goozi\\anaconda3\\lib\\site-packages (from packaging>=20.0->transformers) (3.0.4)\n",
      "Requirement already satisfied: colorama in c:\\users\\goozi\\anaconda3\\lib\\site-packages (from tqdm>=4.27->transformers) (0.4.4)\n",
      "Requirement already satisfied: certifi>=2017.4.17 in c:\\users\\goozi\\anaconda3\\lib\\site-packages (from requests->transformers) (2021.10.8)\n",
      "Requirement already satisfied: idna<4,>=2.5 in c:\\users\\goozi\\anaconda3\\lib\\site-packages (from requests->transformers) (3.3)\n",
      "Requirement already satisfied: urllib3<1.27,>=1.21.1 in c:\\users\\goozi\\anaconda3\\lib\\site-packages (from requests->transformers) (1.26.9)\n",
      "Requirement already satisfied: charset-normalizer~=2.0.0 in c:\\users\\goozi\\anaconda3\\lib\\site-packages (from requests->transformers) (2.0.4)\n",
      "Note: you may need to restart the kernel to use updated packages.\n"
     ]
    }
   ],
   "source": [
    "pip install transformers"
   ]
  },
  {
   "cell_type": "code",
   "execution_count": 2,
   "metadata": {},
   "outputs": [
    {
     "name": "stdout",
     "output_type": "stream",
     "text": [
      "Requirement already satisfied: krwordrank in c:\\users\\goozi\\anaconda3\\lib\\site-packages (1.0.3)Note: you may need to restart the kernel to use updated packages.\n",
      "\n",
      "Requirement already satisfied: numpy>=1.18.4 in c:\\users\\goozi\\anaconda3\\lib\\site-packages (from krwordrank) (1.21.5)\n",
      "Requirement already satisfied: scipy>=1.4.1 in c:\\users\\goozi\\anaconda3\\lib\\site-packages (from krwordrank) (1.7.3)\n",
      "Requirement already satisfied: scikit-learn>=0.22.1 in c:\\users\\goozi\\anaconda3\\lib\\site-packages (from krwordrank) (1.0.2)\n",
      "Requirement already satisfied: joblib>=0.11 in c:\\users\\goozi\\anaconda3\\lib\\site-packages (from scikit-learn>=0.22.1->krwordrank) (1.1.0)\n",
      "Requirement already satisfied: threadpoolctl>=2.0.0 in c:\\users\\goozi\\anaconda3\\lib\\site-packages (from scikit-learn>=0.22.1->krwordrank) (2.2.0)\n"
     ]
    }
   ],
   "source": [
    "pip install krwordrank"
   ]
  },
  {
   "cell_type": "code",
   "execution_count": 3,
   "metadata": {},
   "outputs": [
    {
     "name": "stdout",
     "output_type": "stream",
     "text": [
      "Requirement already satisfied: torch in c:\\users\\goozi\\anaconda3\\lib\\site-packages (1.13.1)\n",
      "Requirement already satisfied: typing-extensions in c:\\users\\goozi\\anaconda3\\lib\\site-packages (from torch) (4.1.1)\n",
      "Note: you may need to restart the kernel to use updated packages.\n"
     ]
    }
   ],
   "source": [
    "pip install torch"
   ]
  },
  {
   "cell_type": "code",
   "execution_count": 4,
   "metadata": {},
   "outputs": [],
   "source": [
    "from transformers import AutoTokenizer, AutoModelForSeq2SeqLM, AutoModelForSequenceClassification\n",
    "from krwordrank.word import KRWordRank"
   ]
  },
  {
   "cell_type": "code",
   "execution_count": 5,
   "metadata": {},
   "outputs": [
    {
     "name": "stderr",
     "output_type": "stream",
     "text": [
      "Special tokens have been added in the vocabulary, make sure the associated word embeddings are fine-tuned or trained.\n"
     ]
    }
   ],
   "source": [
    "#요약 모델\n",
    "sum_model = AutoModelForSeq2SeqLM.from_pretrained('eenzeenee/t5-base-korean-summarization')\n",
    "sum_tokenizer = AutoTokenizer.from_pretrained('eenzeenee/t5-base-korean-summarization')\n",
    "\n",
    "sum_model.save_pretrained(\"./model/summ\")\n",
    "sum_tokenizer.save_pretrained(\"./model/summ\")\n",
    "\n",
    "#감정 모델\n",
    "tokenizer_emo = AutoTokenizer.from_pretrained(\n",
    "'nlp04/korean_sentiment_analysis_dataset3',   # or float32 version: revision=KoGPT6B-ryan1.5b\n",
    "bos_token='[BOS]', eos_token='[EOS]', unk_token='[UNK]', pad_token='[PAD]', mask_token='[MASK]'\n",
    ")\n",
    "model_emo = AutoModelForSequenceClassification.from_pretrained(\n",
    "'nlp04/korean_sentiment_analysis_dataset3',  # or float32 version: revision=KoGPT6B-ryan1.5b\n",
    ")\n",
    "\n",
    "tokenizer_emo.save_pretrained(\"./model/emmo\")\n",
    "model_emo.save_pretrained(\"./model/emmo\")\n",
    "\n",
    "# #키워드 추출 모델\n",
    "# min_count = 2   # 단어의 최소 출현 빈도수 (그래프 생성 시)\n",
    "# max_length = 10 # 단어의 최대 길이\n",
    "# wordrank_extractor = KRWordRank(min_count=2, max_length=6)"
   ]
  },
  {
   "cell_type": "code",
   "execution_count": 5,
   "metadata": {},
   "outputs": [],
   "source": []
  }
 ],
 "metadata": {
  "kernelspec": {
   "display_name": "base",
   "language": "python",
   "name": "python3"
  },
  "language_info": {
   "codemirror_mode": {
    "name": "ipython",
    "version": 3
   },
   "file_extension": ".py",
   "mimetype": "text/x-python",
   "name": "python",
   "nbconvert_exporter": "python",
   "pygments_lexer": "ipython3",
   "version": "3.9.12"
  },
  "orig_nbformat": 4,
  "vscode": {
   "interpreter": {
    "hash": "2a2acbac5632da3a08c298e1c0980a7c446345354cfdd2ecbc73703559a33dbd"
   }
  }
 },
 "nbformat": 4,
 "nbformat_minor": 2
}
